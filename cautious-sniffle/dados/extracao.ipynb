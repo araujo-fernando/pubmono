{
 "cells": [
  {
   "cell_type": "code",
   "execution_count": null,
   "metadata": {},
   "outputs": [],
   "source": [
    "# %load_ext cudf.pandas\n",
    "import pandas as pd\n",
    "import json\n",
    "\n",
    "pasta = 'stz/'"
   ]
  },
  {
   "cell_type": "code",
   "execution_count": null,
   "metadata": {},
   "outputs": [],
   "source": [
    "dados_input = json.load(open(f\"{pasta}meta_dados.json\", \"r\", encoding=\"cp1252\"))\n",
    "dados = dados_input[\"dados\"]\n",
    "metadados = dados_input[\"metadados\"]\n",
    "\n",
    "dados.keys(), metadados.keys()"
   ]
  },
  {
   "cell_type": "code",
   "execution_count": null,
   "metadata": {},
   "outputs": [],
   "source": [
    "nos = pd.DataFrame(dados[\"criacaoDeNos\"])\n",
    "# criar coluna id, que corresponde ao nivel do no e um numero sequencial iniciando em 1 para cada nivel\n",
    "nos[\"idn\"] = nos.groupby(\"nivel\").cumcount() + 1\n",
    "nos[\"idn\"] = nos[\"nivel\"] + \"_\" + nos[\"idn\"].astype(str)\n",
    "replace_nos = dict(zip(nos[\"no\"], nos[\"idn\"]))\n",
    "nos.to_csv(f\"{pasta}nos.csv\", index=False)\n",
    "nos.drop(columns=[\"no\"]).to_csv(f\"{pasta}nos_anonim.csv\", index=False)\n",
    "nos"
   ]
  },
  {
   "cell_type": "code",
   "execution_count": null,
   "metadata": {},
   "outputs": [],
   "source": [
    "skus = pd.DataFrame(dados[\"skus\"])\n",
    "skus[\"ids\"] = \"sku_\" + skus.index.astype(str)\n",
    "skus.to_csv(f\"{pasta}skus.csv\", index=False)\n",
    "replace_skus = dict(zip(skus[\"listaDeSkus\"], skus[\"ids\"]))\n",
    "skus.drop(columns=[\"listaDeSkus\"]).to_csv(f\"{pasta}skus_anonim.csv\", index=False)\n",
    "skus"
   ]
  },
  {
   "cell_type": "code",
   "execution_count": null,
   "metadata": {},
   "outputs": [],
   "source": [
    "clusters = pd.DataFrame(dados[\"clustersSkuAtribuicao\"])\n",
    "if not clusters.empty:\n",
    "    clusters = clusters[[\"sku\", \"categoriaDeSku\"]].rename(columns={\"categoriaDeSku\": \"cluster\"})\n",
    "    clusters[\"sku\"] = clusters[\"sku\"].replace(replace_skus)\n",
    "else:\n",
    "    clusters = pd.DataFrame(columns=[\"sku\", \"cluster\"])\n",
    "\n",
    "clusters"
   ]
  },
  {
   "cell_type": "code",
   "execution_count": null,
   "metadata": {},
   "outputs": [],
   "source": [
    "fretes  = list()\n",
    "\n",
    "frete = pd.DataFrame(dados[\"freteBase\"])\n",
    "if not frete.empty:\n",
    "    frete[\"origem\"] = frete[\"origem\"].replace(replace_nos)\n",
    "    frete[\"destino\"] = frete[\"destino\"].replace(replace_nos)\n",
    "\n",
    "    frete = frete.merge(skus.rename(columns={\"ids\": \"sku\"}), how=\"cross\")\n",
    "    frete.to_csv(f\"{pasta}frete_base.csv\", index=False)\n",
    "    print(frete.head())\n",
    "    fretes.append(frete[[\"origem\", \"destino\", \"sku\", \"perfil\", \"custo\"]])\n",
    "\n",
    "frete = pd.DataFrame(dados[\"fretePorCluster\"])\n",
    "if not frete.empty:\n",
    "    clusters = pd.DataFrame(dados[\"clustersSkuAtribuicao\"])[[\"sku\", \"categoriaDeSku\"]].rename(columns={\"categoriaDeSku\": \"cluster\"})\n",
    "    clusters[\"sku\"] = clusters[\"sku\"].replace(replace_skus)\n",
    "    frete[\"origem\"] = frete[\"origem\"].replace(replace_nos)\n",
    "    frete[\"destino\"] = frete[\"destino\"].replace(replace_nos)\n",
    "\n",
    "    frete = frete.merge(clusters, on=\"cluster\", how=\"left\")\n",
    "\n",
    "    frete.to_csv(f\"{pasta}frete_cluster.csv\", index=False)\n",
    "    print(frete.head())\n",
    "    fretes.append(frete[[\"origem\", \"destino\", \"sku\", \"perfil\", \"custo\"]])\n",
    "\n",
    "frete = pd.DataFrame(dados[\"fretePorSku\"])\n",
    "if not frete.empty:\n",
    "    frete[\"origem\"] = frete[\"origem\"].replace(replace_nos)\n",
    "    frete[\"destino\"] = frete[\"destino\"].replace(replace_nos)\n",
    "    frete[\"sku\"] = frete[\"sku\"].replace(replace_skus)\n",
    "    frete.to_csv(f\"{pasta}frete_sku.csv\", index=False)\n",
    "    print(frete.head())\n",
    "    fretes.append(frete[[\"origem\", \"destino\", \"sku\", \"perfil\", \"custo\"]])\n",
    "\n",
    "if len(fretes) > 1:\n",
    "    frete_total = pd.concat(fretes).groupby([\"origem\", \"destino\", \"sku\", \"perfil\"]).sum().reset_index()\n",
    "else:\n",
    "    frete_total = fretes[0]\n",
    "frete_total.to_csv(f\"{pasta}frete.csv\", index=False)\n",
    "print(frete_total.head())"
   ]
  },
  {
   "cell_type": "code",
   "execution_count": null,
   "metadata": {},
   "outputs": [],
   "source": [
    "km_rota = pd.DataFrame(dados[\"kmDaRota\"])\n",
    "km_rota[\"origem\"] = km_rota[\"origem\"].replace(replace_nos)\n",
    "km_rota[\"destino\"] = km_rota[\"destino\"].replace(replace_nos)\n",
    "km_rota.to_csv(f\"{pasta}km_rota.csv\", index=False)\n",
    "km_rota"
   ]
  },
  {
   "cell_type": "code",
   "execution_count": null,
   "metadata": {},
   "outputs": [],
   "source": [
    "baseline = pd.DataFrame(dados[\"baseline\"])\n",
    "baseline[\"origem\"] = baseline[\"origem\"].replace(replace_nos)\n",
    "baseline[\"destino\"] = baseline[\"destino\"].replace(replace_nos)\n",
    "baseline[\"sku\"] = baseline[\"sku\"].replace(replace_skus)\n",
    "baseline.to_csv(f\"{pasta}baseline.csv\", index=False)\n",
    "baseline"
   ]
  },
  {
   "cell_type": "code",
   "execution_count": null,
   "metadata": {},
   "outputs": [],
   "source": [
    "valor_mercadoria = pd.DataFrame(dados[\"porRota\"])\n",
    "valor_mercadoria[\"origem\"] = valor_mercadoria[\"origem\"].replace(replace_nos)\n",
    "valor_mercadoria[\"destino\"] = valor_mercadoria[\"destino\"].replace(replace_nos)\n",
    "valor_mercadoria[\"sku\"] = valor_mercadoria[\"sku\"].replace(replace_skus)\n",
    "valor_mercadoria.to_csv(f\"{pasta}valor_mercadoria.csv\", index=False)\n",
    "valor_mercadoria"
   ]
  },
  {
   "cell_type": "code",
   "execution_count": null,
   "metadata": {},
   "outputs": [],
   "source": [
    "demanda = pd.DataFrame(dados[\"demandaPorSku\"])\n",
    "demanda[\"sku\"] = demanda[\"sku\"].replace(replace_skus)\n",
    "demanda[\"no\"] = demanda[\"no\"].replace(replace_nos)\n",
    "demanda.to_csv(f\"{pasta}demanda.csv\", index=False)\n",
    "demanda"
   ]
  },
  {
   "cell_type": "code",
   "execution_count": null,
   "metadata": {},
   "outputs": [],
   "source": [
    "custo_nos = pd.DataFrame(dados[\"no\"])\n",
    "custo_nos[\"no\"] = custo_nos[\"no\"].replace(replace_nos)\n",
    "custo_nos.to_csv(f\"{pasta}custo_nos.csv\", index=False)\n",
    "custo_nos"
   ]
  }
 ],
 "metadata": {
  "kernelspec": {
   "display_name": "ufmg",
   "language": "python",
   "name": "python3"
  },
  "language_info": {
   "codemirror_mode": {
    "name": "ipython",
    "version": 3
   },
   "file_extension": ".py",
   "mimetype": "text/x-python",
   "name": "python",
   "nbconvert_exporter": "python",
   "pygments_lexer": "ipython3",
   "version": "3.11.5"
  }
 },
 "nbformat": 4,
 "nbformat_minor": 2
}
